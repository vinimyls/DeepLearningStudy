{
  "nbformat": 4,
  "nbformat_minor": 0,
  "metadata": {
    "colab": {
      "name": "Cópia de Projeto_aula7.ipynb",
      "provenance": [],
      "collapsed_sections": []
    },
    "kernelspec": {
      "name": "python3",
      "display_name": "Python 3"
    }
  },
  "cells": [
    {
      "cell_type": "markdown",
      "metadata": {
        "id": "6fcP_LeDwIE8",
        "colab_type": "text"
      },
      "source": [
        "# Deep Learning Using Keras"
      ]
    },
    {
      "cell_type": "markdown",
      "metadata": {
        "id": "sNc3NouWYrN7",
        "colab_type": "text"
      },
      "source": [
        "## Imports"
      ]
    },
    {
      "cell_type": "code",
      "metadata": {
        "id": "4bQCahYjYdUB",
        "colab_type": "code",
        "colab": {}
      },
      "source": [
        "import tensorflow\n",
        "from tensorflow import keras\n",
        "import matplotlib.pyplot as plt\n",
        "import numpy as np\n",
        "from tensorflow.keras.models import load_model"
      ],
      "execution_count": 15,
      "outputs": []
    },
    {
      "cell_type": "markdown",
      "metadata": {
        "id": "f8uuzUjVYvkf",
        "colab_type": "text"
      },
      "source": [
        "### Loading dataset"
      ]
    },
    {
      "cell_type": "code",
      "metadata": {
        "id": "QoIys3wMYirH",
        "colab_type": "code",
        "colab": {}
      },
      "source": [
        "dataset = keras.datasets.fashion_mnist\n",
        "((traine_picture, traine_id), (test_picture, test_id)) = dataset.load_data()\n"
      ],
      "execution_count": 16,
      "outputs": []
    },
    {
      "cell_type": "markdown",
      "metadata": {
        "id": "oFr0526ZY5E_",
        "colab_type": "text"
      },
      "source": [
        "### Data exploration"
      ]
    },
    {
      "cell_type": "code",
      "metadata": {
        "id": "fPIT36hpYl5A",
        "colab_type": "code",
        "colab": {
          "base_uri": "https://localhost:8080/",
          "height": 35
        },
        "outputId": "06f1dd9c-6d38-468f-f73e-a9abbe61e3ea"
      },
      "source": [
        "len(traine_picture)\n",
        "traine_picture.shape\n",
        "test_picture.shape\n",
        "len(test_id)\n",
        "traine_id.min()\n",
        "traine_id.max()"
      ],
      "execution_count": 17,
      "outputs": [
        {
          "output_type": "execute_result",
          "data": {
            "text/plain": [
              "9"
            ]
          },
          "metadata": {
            "tags": []
          },
          "execution_count": 17
        }
      ]
    },
    {
      "cell_type": "markdown",
      "metadata": {
        "id": "yTWqT9DIY-iB",
        "colab_type": "text"
      },
      "source": [
        "### Data exhibition"
      ]
    },
    {
      "cell_type": "code",
      "metadata": {
        "id": "bGESm49JVahh",
        "colab_type": "code",
        "colab": {
          "base_uri": "https://localhost:8080/",
          "height": 283
        },
        "outputId": "76298c80-6966-40ac-a705-be047b6ff697"
      },
      "source": [
        "total_of_kinds = 10\n",
        "name_of_kinds = ['T-shirt', 'Pants', 'Pullover',\n",
        "                            'Dress', 'Coat', 'Sandal', 'Shirt',\n",
        "                            'Tennis', 'Bag', 'Boot']\n",
        "plt.imshow(traine_picture[0])\n",
        "plt.colorbar()"
      ],
      "execution_count": 4,
      "outputs": [
        {
          "output_type": "execute_result",
          "data": {
            "text/plain": [
              "<matplotlib.colorbar.Colorbar at 0x7f32b8e18860>"
            ]
          },
          "metadata": {
            "tags": []
          },
          "execution_count": 4
        },
        {
          "output_type": "display_data",
          "data": {
            "image/png": "[encoded data removed]",
            "text/plain": [
              "<Figure size 432x288 with 2 Axes>"
            ]
          },
          "metadata": {
            "tags": [],
            "needs_background": "light"
          }
        }
      ]
    },
    {
      "cell_type": "markdown",
      "metadata": {
        "id": "uU6ZySpIcoc5",
        "colab_type": "text"
      },
      "source": [
        "### Normalizing the pictures"
      ]
    },
    {
      "cell_type": "code",
      "metadata": {
        "id": "Ral_hdl9ulGG",
        "colab_type": "code",
        "colab": {}
      },
      "source": [
        "traine_picture = traine_picture/float(255)"
      ],
      "execution_count": 5,
      "outputs": []
    },
    {
      "cell_type": "markdown",
      "metadata": {
        "id": "2WABnvOJdCNl",
        "colab_type": "text"
      },
      "source": [
        "### Creat, compiling, training and normalizing the model"
      ]
    },
    {
      "cell_type": "code",
      "metadata": {
        "id": "uFedwlfFc0ii",
        "colab_type": "code",
        "colab": {
          "base_uri": "https://localhost:8080/",
          "height": 197
        },
        "outputId": "158e4f8e-1233-4f9d-8437-0ce210ae4ec9"
      },
      "source": [
        "model = keras.Sequential([ \n",
        "    keras.layers.Flatten(input_shape=(28, 28)),\n",
        "    keras.layers.Dense(256, activation=tensorflow.nn.relu),\n",
        "    keras.layers.Dropout(0.2),\n",
        "    keras.layers.Dense(10, activation=tensorflow.nn.softmax)\n",
        "])\n",
        "\n",
        "model.compile(optimizer='adam', \n",
        "               loss='sparse_categorical_crossentropy',\n",
        "               metrics=['accuracy'])\n",
        "\n",
        "historic = model.fit(traine_picture, traine_id, epochs=5, validation_split=0.2)"
      ],
      "execution_count": 6,
      "outputs": [
        {
          "output_type": "stream",
          "text": [
            "Epoch 1/5\n",
            "1500/1500 [==============================] - 5s 4ms/step - loss: 0.5278 - accuracy: 0.8138 - val_loss: 0.4178 - val_accuracy: 0.8499\n",
            "Epoch 2/5\n",
            "1500/1500 [==============================] - 5s 3ms/step - loss: 0.3973 - accuracy: 0.8549 - val_loss: 0.3743 - val_accuracy: 0.8647\n",
            "Epoch 3/5\n",
            "1500/1500 [==============================] - 5s 3ms/step - loss: 0.3645 - accuracy: 0.8657 - val_loss: 0.3569 - val_accuracy: 0.8727\n",
            "Epoch 4/5\n",
            "1500/1500 [==============================] - 5s 3ms/step - loss: 0.3377 - accuracy: 0.8746 - val_loss: 0.3441 - val_accuracy: 0.8776\n",
            "Epoch 5/5\n",
            "1500/1500 [==============================] - 5s 3ms/step - loss: 0.3212 - accuracy: 0.8807 - val_loss: 0.3407 - val_accuracy: 0.8773\n"
          ],
          "name": "stdout"
        }
      ]
    },
    {
      "cell_type": "markdown",
      "metadata": {
        "id": "4-RqzS88dgk_",
        "colab_type": "text"
      },
      "source": [
        "### Saving and loading the model"
      ]
    },
    {
      "cell_type": "code",
      "metadata": {
        "id": "SVjmU41IELzX",
        "colab_type": "code",
        "colab": {}
      },
      "source": [
        "model.save('model.h5')\n",
        "model_save = load_model('model.h5')"
      ],
      "execution_count": 8,
      "outputs": []
    },
    {
      "cell_type": "markdown",
      "metadata": {
        "id": "DUIY_jcT3pmx",
        "colab_type": "text"
      },
      "source": [
        "### Viewing training and validation accuracy by season"
      ]
    },
    {
      "cell_type": "code",
      "metadata": {
        "id": "pNc0JsWZY1Ie",
        "colab_type": "code",
        "colab": {
          "base_uri": "https://localhost:8080/",
          "height": 313
        },
        "outputId": "ab215cb3-965f-4b2d-a69c-fc77bfaf1ddc"
      },
      "source": [
        "plt.plot(historic.history['accuracy'])\n",
        "plt.plot(historic.history['val_accuracy'])\n",
        "plt.title('Accuracy per epoch')\n",
        "plt.xlabel('epoch')\n",
        "plt.ylabel('accuracy')\n",
        "plt.legend(['traine', 'validation'])\n"
      ],
      "execution_count": 9,
      "outputs": [
        {
          "output_type": "execute_result",
          "data": {
            "text/plain": [
              "<matplotlib.legend.Legend at 0x7f32af3939b0>"
            ]
          },
          "metadata": {
            "tags": []
          },
          "execution_count": 9
        },
        {
          "output_type": "display_data",
          "data": {
            "image/png": "[encoded data removed]",
            "text/plain": [
              "<Figure size 432x288 with 1 Axes>"
            ]
          },
          "metadata": {
            "tags": [],
            "needs_background": "light"
          }
        }
      ]
    },
    {
      "cell_type": "markdown",
      "metadata": {
        "id": "ZKxkWNawdzZh",
        "colab_type": "text"
      },
      "source": [
        "### Viewing training losses and validation by season"
      ]
    },
    {
      "cell_type": "code",
      "metadata": {
        "id": "2ugG3Vusg_Va",
        "colab_type": "code",
        "colab": {
          "base_uri": "https://localhost:8080/",
          "height": 313
        },
        "outputId": "376ca87a-733a-4dc0-f5d9-ef86c81f1bc4"
      },
      "source": [
        "plt.plot(historic.history['loss'])\n",
        "plt.plot(historic.history['val_loss'])\n",
        "plt.title('Loss per epoch')\n",
        "plt.xlabel('epoch')\n",
        "plt.ylabel('loss')\n",
        "plt.legend(['traine', 'validation'])"
      ],
      "execution_count": 10,
      "outputs": [
        {
          "output_type": "execute_result",
          "data": {
            "text/plain": [
              "<matplotlib.legend.Legend at 0x7f32af33f7f0>"
            ]
          },
          "metadata": {
            "tags": []
          },
          "execution_count": 10
        },
        {
          "output_type": "display_data",
          "data": {
            "image/png": "[encoded data removed]",
            "text/plain": [
              "<Figure size 432x288 with 1 Axes>"
            ]
          },
          "metadata": {
            "tags": [],
            "needs_background": "light"
          }
        }
      ]
    },
    {
      "cell_type": "markdown",
      "metadata": {
        "id": "JFXG1oibd8E8",
        "colab_type": "text"
      },
      "source": [
        "### Testing the model and the saved model"
      ]
    },
    {
      "cell_type": "code",
      "metadata": {
        "id": "I2kLEHPYUdhd",
        "colab_type": "code",
        "colab": {
          "base_uri": "https://localhost:8080/",
          "height": 89
        },
        "outputId": "4a4fd843-e9d6-4f05-a738-1914298ee8e0"
      },
      "source": [
        "tests = model.predict(test_picture)\n",
        "print('test result:', np.argmax(tests[1]))\n",
        "print('número da imagem de teste:', test_id[1])\n",
        "\n",
        "test_model_save = model_save.predict(test_picture)\n",
        "print('resultado teste modelo salvo:', np.argmax(test_model_save[1]))\n",
        "print('número da imagem de teste:', test_id[1])"
      ],
      "execution_count": 11,
      "outputs": [
        {
          "output_type": "stream",
          "text": [
            "test result: 2\n",
            "número da imagem de teste: 2\n",
            "resultado teste modelo salvo: 2\n",
            "número da imagem de teste: 2\n"
          ],
          "name": "stdout"
        }
      ]
    },
    {
      "cell_type": "markdown",
      "metadata": {
        "id": "U64QMV1GeCUr",
        "colab_type": "text"
      },
      "source": [
        "### Evaluating the model"
      ]
    },
    {
      "cell_type": "code",
      "metadata": {
        "id": "wsbr9WqyXQ2G",
        "colab_type": "code",
        "colab": {
          "base_uri": "https://localhost:8080/",
          "height": 71
        },
        "outputId": "59dd2a2c-2348-4ad1-9f6a-4d065c1653b2"
      },
      "source": [
        "test_loss, test_accuracy = model.evaluate(test_picture, test_id)\n",
        "print('Perda do teste:', test_loss)\n",
        "print('Acurácia do teste:', test_accuracy)"
      ],
      "execution_count": 14,
      "outputs": [
        {
          "output_type": "stream",
          "text": [
            "313/313 [==============================] - 1s 2ms/step - loss: 54.9504 - accuracy: 0.8544\n",
            "Perda do teste: 54.95041275024414\n",
            "Acurácia do teste: 0.8543999791145325\n"
          ],
          "name": "stdout"
        }
      ]
    }
  ]
}